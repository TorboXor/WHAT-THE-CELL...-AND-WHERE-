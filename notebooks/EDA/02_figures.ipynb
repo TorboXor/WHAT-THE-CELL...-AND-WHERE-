{
 "cells": [
  {
   "cell_type": "code",
   "execution_count": null,
   "id": "599502f6-fda5-4176-9d2e-b320fce2eca2",
   "metadata": {},
   "outputs": [],
   "source": [
    "import figure_functions as ff\n",
    "\n",
    "import pandas as pd\n",
    "import numpy as np\n",
    "import cv2 as cv\n",
    "import matplotlib.pyplot as plt\n",
    "import matplotlib.patches as mpatches\n",
    "import seaborn as sns\n",
    "\n",
    "import skimage\n",
    "from skimage import io\n",
    "from skimage import color\n",
    "from skimage import filters\n",
    "\n",
    "from sklearn.metrics import classification_report, confusion_matrix\n",
    "import itertools\n",
    "\n",
    "%matplotlib inline"
   ]
  },
  {
   "cell_type": "code",
   "execution_count": null,
   "id": "d2a2bde0-d38c-4973-9278-c88ae8110873",
   "metadata": {},
   "outputs": [],
   "source": [
    "!mkdir figures\n",
    "\n",
    "# Custom colorblind friendly palette\n",
    "colors = [\"#D81B60\", \"#1E88E5\", \"#FFC107\", \"#004D40\"]\n",
    "sns.set_palette(sns.color_palette(colors))\n",
    "\n",
    "df = pd.read_csv('eda_markers.csv')"
   ]
  },
  {
   "cell_type": "markdown",
   "id": "29615ed4-6a52-4de0-beb6-3835e8e6f049",
   "metadata": {},
   "source": [
    "## How many cells per class?"
   ]
  },
  {
   "cell_type": "code",
   "execution_count": null,
   "id": "89780487-0d20-40ab-b65e-70a64566e119",
   "metadata": {},
   "outputs": [],
   "source": [
    "df_uniq = df.drop_duplicates(subset=['id'])\n",
    "df_uniq = df_uniq[[\"id\",\"cell_type\"]].groupby([\"cell_type\"]).count().reset_index()\n",
    "\n",
    "\n",
    "sns.set_theme(style=\"ticks\")\n",
    "sns.set_palette(sns.color_palette(colors))\n",
    "\n",
    "g = sns.catplot(data = df_uniq, kind = \"bar\",\n",
    "                x = \"cell_type\", y = \"id\", height=6)"
   ]
  },
  {
   "cell_type": "markdown",
   "id": "ccfc24bf-a328-4d51-a64f-ed5145a52bd5",
   "metadata": {},
   "source": [
    "## Bivariate scatterplots plus example images\n",
    "\n",
    "**Replace `std_grey_nocell` and `std_grey_cell` in the code below with any of the variables listed below to show a bivariate scatterplot of these variables per cell type as well as the cell images that are closest to the centers of these distributions**.\n",
    "\n",
    "For some variables, log axes are recommended (see example in the last cell of this notebook)\n",
    "\n",
    "* min_grey_global\n",
    "* max_grey_global\n",
    "* mean_grey_global\n",
    "* std_grey_global\n",
    "* min_grey_cell\n",
    "* max_grey_cell\n",
    "* mean_grey_cell\n",
    "* std_grey_cell\n",
    "* min_grey_nocell\n",
    "* max_grey_nocell\n",
    "* mean_grey_nocell\n",
    "* std_grey_nocell\n",
    "* n_annotations          \n",
    "* perc_total_annotation\n",
    "* perc_single_annotation\n",
    "* min_perc_single_annotation\n",
    "* max_perc_single_annotation\n",
    "* range_perc_single_annotation\n",
    "* mean_perc_single_annotation"
   ]
  },
  {
   "cell_type": "code",
   "execution_count": null,
   "id": "6c66d1fb-f42f-4df8-9096-639bea7727f0",
   "metadata": {},
   "outputs": [],
   "source": [
    "df_uniq = df.drop_duplicates(subset=['id'])\n",
    "\n",
    "ff.scatterplot_and_img(df_uniq, df_uniq[\"cell_type\"].unique(), \"std_grey_nocell\", \"std_grey_cell\")"
   ]
  },
  {
   "cell_type": "code",
   "execution_count": null,
   "id": "9ddaa643-c14b-4f7c-89a2-1cde643d853e",
   "metadata": {},
   "outputs": [],
   "source": [
    "ff.scatterplot_and_img(df_uniq, df_uniq[\"cell_type\"].unique(), \"min_perc_single_annotation\", \"max_perc_single_annotation\",\n",
    "                       log_axes = True)"
   ]
  },
  {
   "cell_type": "code",
   "execution_count": null,
   "id": "5d2dce16-f28c-4011-b499-16861b9ab891",
   "metadata": {},
   "outputs": [],
   "source": []
  }
 ],
 "metadata": {
  "kernelspec": {
   "display_name": "Python 3 (ipykernel)",
   "language": "python",
   "name": "python3"
  },
  "language_info": {
   "codemirror_mode": {
    "name": "ipython",
    "version": 3
   },
   "file_extension": ".py",
   "mimetype": "text/x-python",
   "name": "python",
   "nbconvert_exporter": "python",
   "pygments_lexer": "ipython3",
   "version": "3.9.4"
  }
 },
 "nbformat": 4,
 "nbformat_minor": 5
}
