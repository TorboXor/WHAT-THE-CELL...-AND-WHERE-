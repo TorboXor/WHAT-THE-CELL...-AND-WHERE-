{
 "cells": [
  {
   "cell_type": "markdown",
   "id": "48ceb580-6bce-4669-87bd-3513e7e2e55e",
   "metadata": {},
   "source": [
    "# Figures\n",
    "\n"
   ]
  },
  {
   "cell_type": "markdown",
   "id": "bc5c19fe-b087-483d-a670-6049278f7d58",
   "metadata": {},
   "source": [
    "## Imports"
   ]
  },
  {
   "cell_type": "code",
   "execution_count": null,
   "id": "e8ccae93-dda8-4836-b26d-1be712be1d5a",
   "metadata": {},
   "outputs": [],
   "source": [
    "import os\n",
    "import pathlib\n",
    "\n",
    "import pandas as pd\n",
    "import numpy as np\n",
    "import cv2 as cv\n",
    "import imageio\n",
    "import matplotlib.pyplot as plt\n",
    "import matplotlib.patches as mpatches\n",
    "import seaborn as sns\n",
    "\n",
    "import skimage\n",
    "from skimage import io\n",
    "from skimage import color\n",
    "from skimage import filters\n",
    "from skimage.exposure import equalize_adapthist\n",
    "from skimage.exposure import adjust_gamma\n",
    "\n",
    "from PIL import Image"
   ]
  },
  {
   "cell_type": "markdown",
   "id": "df5361e6-0806-4072-82d0-3b2be7d7c826",
   "metadata": {},
   "source": [
    "## Specify which predictions to use and create corresponding figure folder"
   ]
  },
  {
   "cell_type": "markdown",
   "id": "b4c96bd0-1cda-40ad-b54b-7650215ba550",
   "metadata": {},
   "source": [
    "**Note:** Navigate to `/repository_folder/data/data_preprocessed/mask_predicted` and choose a folder name from there."
   ]
  },
  {
   "cell_type": "code",
   "execution_count": null,
   "id": "2338b7d1-911d-4017-995e-7706391ebe41",
   "metadata": {},
   "outputs": [],
   "source": [
    "pred_dir_pick = \"U-net-from-scratch_astroS20E50_cortS60E10_shsy5yS24E25\" # Folder from which predictions are taken\n",
    "\n",
    "curr_dir = os.getcwd()\n",
    "parent_dir = pathlib.Path(curr_dir).parents[1]\n",
    "\n",
    "pred_dir = f\"{parent_dir}/data/data_preprocessed/mask_predicted/{pred_dir_pick}/\"\n",
    "\n",
    "figures_dir = f\"{parent_dir}/notebooks/U-net/figures\"\n",
    "fig_dir = f\"{parent_dir}/notebooks/U-net/figures/{pred_dir_pick}\"\n",
    "\n",
    "try:\n",
    "    os.mkdir(figures_dir)\n",
    "except:\n",
    "    print(\"Figure directory already exists\")\n",
    "    \n",
    "try:\n",
    "    os.mkdir(fig_dir)\n",
    "except:\n",
    "    print(\"Figure directory already exists\")"
   ]
  },
  {
   "cell_type": "code",
   "execution_count": null,
   "id": "a2eebf26-ee4e-47ae-8f31-9f6c02236d2b",
   "metadata": {},
   "outputs": [],
   "source": [
    "# Path to the original images\n",
    "img_path = f\"{parent_dir}/data/data_original/train/\"\n",
    "\n",
    "# Path to the original masks\n",
    "msk_path = f\"{parent_dir}/data/data_preprocessed/masks_used_for_model/\"\n",
    "\n",
    "# Path to the predicted masks\n",
    "prd_path = f\"{parent_dir}/data/data_preprocessed/mask_predicted/{pred_dir_pick}/\""
   ]
  },
  {
   "cell_type": "markdown",
   "id": "ea29ae60-54b2-4ded-9630-462fafcd0946",
   "metadata": {},
   "source": [
    "## Load the IoU data"
   ]
  },
  {
   "cell_type": "code",
   "execution_count": null,
   "id": "80150db7-b910-4dd0-b13e-9c12212b1ff6",
   "metadata": {},
   "outputs": [],
   "source": [
    "df_iou = pd.read_csv(f\"{pred_dir}IoU.csv\")\n",
    "df_iou.head()"
   ]
  },
  {
   "cell_type": "markdown",
   "id": "3c9b63aa-ebde-4449-8a62-abdbf6c7b3d5",
   "metadata": {
    "tags": []
   },
   "source": [
    "## Figure: IoU histogram"
   ]
  },
  {
   "cell_type": "code",
   "execution_count": null,
   "id": "4b6624ae-9166-43b0-973e-8d4d7f352595",
   "metadata": {},
   "outputs": [],
   "source": [
    "for dataset in [\"train\", \"eval\", \"test\"]:\n",
    "\n",
    "    df2 = df_iou[df_iou[\"dataset\"]==dataset]\n",
    "    uniq_cell_type = df2[\"cell_type\"].unique()\n",
    "    uniq_cell_type.sort()\n",
    "\n",
    "    fig, axes = plt.subplots(1, 3)\n",
    "    fig.set_figheight(4)\n",
    "    fig.set_figwidth(12)\n",
    "    fig.suptitle(f\"IoU distributions per cell type ({dataset} data only)\", fontsize=20)\n",
    "\n",
    "    for i, cell_type in enumerate(uniq_cell_type):\n",
    "        df3 = df2[df2[\"cell_type\"]==cell_type]\n",
    "\n",
    "        g = sns.histplot(ax = axes[i], data = df3, x = \"IoU\", binwidth = 0.05)\n",
    "        \n",
    "        # Mean IoU\n",
    "        mean_iou = np.mean(df3[\"IoU\"])\n",
    "        \n",
    "        if dataset != \"test\":\n",
    "            axes[i].set(xlim = (-0.01, 1), ylim = (0, 60))\n",
    "            axes[i].vlines(mean_iou, 0, 55, colors='k', linestyles='dashed') \n",
    "        else:\n",
    "            axes[i].set(xlim = (-0.01, 1), ylim = (0, 25))\n",
    "            axes[i].vlines(mean_iou, 0, 22, colors='k', linestyles='dashed') \n",
    "\n",
    "        trans = axes[i].get_xaxis_transform()\n",
    "        axes[i].text(mean_iou+0.02,0.875,str(round(mean_iou,2)), transform=trans, fontsize=14)\n",
    "\n",
    "        axes[i].set_title(cell_type, fontsize=16)\n",
    "        axes[i].set_xlabel('IoU', fontsize=14)\n",
    "        axes[i].set_ylabel('N images', fontsize=14)\n",
    "\n",
    "        sns.despine(top = True, right = True)\n",
    "\n",
    "        plt.tight_layout()\n",
    "        plt.savefig(f\"{fig_dir}/mean_IoU_{dataset}.png\", dpi=300, transparent=True)"
   ]
  },
  {
   "cell_type": "markdown",
   "id": "cbeedd6e-3a6a-4883-9a99-4f0619e3e735",
   "metadata": {},
   "source": [
    "## Define functions for image transformation"
   ]
  },
  {
   "cell_type": "code",
   "execution_count": null,
   "id": "54584045-c1f4-4044-96eb-c3827f79c58f",
   "metadata": {},
   "outputs": [],
   "source": [
    "def make_IoU_img(msk, prd):\n",
    "    prd = np.expand_dims(prd, axis = 2)\n",
    "    msk = np.expand_dims(msk, axis = 2)\n",
    "    \n",
    "    r = ((prd!=0) | (msk!=0)).astype(dtype = np.uint8) * 255\n",
    "    g = ((prd!=0) & (msk!=0)).astype(dtype = np.uint8) * 255\n",
    "    b = np.zeros(r.shape)\n",
    "\n",
    "    img_iou = np.concatenate((r, g, b), axis = 2)\n",
    "    \n",
    "    return img_iou\n",
    "\n",
    "\n",
    "def make_mask(img, transparent_background = False):\n",
    "        g = np.expand_dims(img!=0, axis = 2).astype(dtype = np.uint8) * 255\n",
    "        r = np.zeros(g.shape)\n",
    "        b = np.zeros(g.shape)\n",
    "        \n",
    "        img = np.concatenate((r, g, b), axis = 2)\n",
    "\n",
    "        # Use Pillow to make every black pixel fully transparent\n",
    "        if transparent_background:\n",
    "            img = Image.fromarray(img.astype(np.uint8))\n",
    "            img = img.convert(\"RGBA\")\n",
    "\n",
    "            datas = img.getdata()\n",
    "            newData = []\n",
    "            for item in datas:\n",
    "                if item[0] == 0 and item[1] == 0 and item[2] == 0:\n",
    "                    newData.append((255, 255, 255, 0))\n",
    "                else:\n",
    "                    newData.append(item)\n",
    "\n",
    "            img.putdata(newData)\n",
    "\n",
    "        return img\n",
    "\n",
    "\n",
    "def enhance_image(img):\n",
    "    img = equalize_adapthist(img, clip_limit=0.025)\n",
    "    img = adjust_gamma(img, gamma=0.6,gain=1)\n",
    "    \n",
    "    return img\n",
    "\n",
    "\n",
    "def create_images(img_id, img_path, msk_path, prd_path):\n",
    "    # Store the following in a dictionary for visualization:\n",
    "    # - enhanced image (more contrast and brightness)\n",
    "    # - original/predicted mask with black background and bright cell segments\n",
    "    # - original/predicted mask with transparent background for image-mask overlay\n",
    "    # - IoU visualization\n",
    "    \n",
    "    # Read image, original mask and prediction\n",
    "    img = imageio.imread(f\"{img_path}{img_id}.png\")\n",
    "    msk = imageio.imread(f\"{msk_path}{img_id}_mask.png\")\n",
    "    prd = imageio.imread(f\"{prd_path}masks/{img_id}_pred.png\")\n",
    "\n",
    "    # Enhance the image's contrast and brightness and store in dictionary\n",
    "    img_dict = {\"image\": enhance_image(img)}\n",
    "    # img_dict = {\"image\": img} # show the unenhanced image instead\n",
    "    \n",
    "    # Convert prediction and mask colors and store without/with transparent background\n",
    "    img_dict[\"msk_orig\"] = make_mask(msk)\n",
    "    img_dict[\"msk_pred\"] = make_mask(prd)\n",
    "    img_dict[\"msk_orig_trans\"] = make_mask(msk, transparent_background = True)\n",
    "    img_dict[\"msk_pred_trans\"] = make_mask(prd, transparent_background = True)\n",
    "    \n",
    "    # Create and store IoU\n",
    "    img_dict[\"IoU\"] = make_IoU_img(msk, prd)\n",
    "    \n",
    "    return img_dict"
   ]
  },
  {
   "cell_type": "markdown",
   "id": "55b9c856-49ee-4437-9c27-21b1a7bf7b00",
   "metadata": {},
   "source": [
    "## Figure: Enhanced image with predicted mask overlay"
   ]
  },
  {
   "cell_type": "code",
   "execution_count": null,
   "id": "02454017-99f3-4d74-b20e-0acdd845b84d",
   "metadata": {},
   "outputs": [],
   "source": [
    "# To be visualized image IDs\n",
    "img_ids = [\"0140b3c8f445\", \"6b165d790e33\", \"db8bc8f09776\"]"
   ]
  },
  {
   "cell_type": "code",
   "execution_count": null,
   "id": "08125ff4-8642-42aa-9402-d008d3b139f9",
   "metadata": {},
   "outputs": [],
   "source": [
    "for img_id in img_ids:\n",
    "    \n",
    "    # Read IoU and cell type\n",
    "    IoU       = df_iou.loc[df_iou[\"id\"]==img_id, \"IoU\"].values[0]\n",
    "    cell_type = df_iou.loc[df_iou[\"id\"]==img_id, \"cell_type\"].values[0]\n",
    "    \n",
    "    # Read and convert images and masks\n",
    "    img_dict = create_images(img_id, img_path, msk_path, prd_path)\n",
    "    \n",
    "    # Plot original image with mask overlay\n",
    "    fig = plt.figure(figsize = (10, 10))\n",
    "    plt.imshow(img_dict[\"image\"], cmap = \"gray\")\n",
    "    plt.imshow(img_dict[\"msk_pred_trans\"], alpha = 0.3)\n",
    "    plt.axis('off')\n",
    "    plt.savefig(f\"{fig_dir}/pred_overlay_{cell_type}_{img_id}.png\", dpi=500)"
   ]
  },
  {
   "cell_type": "markdown",
   "id": "571f5736-8620-43ae-be64-ca631cbfa906",
   "metadata": {},
   "source": [
    "## Figure: IoU example"
   ]
  },
  {
   "cell_type": "code",
   "execution_count": null,
   "id": "a37d0b53-aa7d-45fc-aa5f-db205a203f9c",
   "metadata": {},
   "outputs": [],
   "source": [
    "for img_id in img_ids:\n",
    "    IoU       = df_iou.loc[df_iou[\"id\"]==img_id, \"IoU\"].values[0]\n",
    "    cell_type = df_iou.loc[df_iou[\"id\"]==img_id, \"cell_type\"].values[0]\n",
    "    \n",
    "    # Read and convert images and masks\n",
    "    img_dict = create_images(img_id, img_path, msk_path, prd_path)\n",
    "    \n",
    "    fig, ax = plt.subplots(1, 3)\n",
    "    fig.set_figheight(3.3)\n",
    "    fig.set_figwidth(10)\n",
    "    fig.suptitle(\"Cell type: {}, intersection over union: {}\".format(cell_type, round(IoU,2)),\n",
    "                 fontsize = 16)\n",
    "    \n",
    "    ax[0].imshow(img_dict[\"msk_pred\"])\n",
    "    ax[0].set_title(\"Prediction\")\n",
    "    \n",
    "    ax[1].imshow(img_dict[\"msk_orig\"])\n",
    "    ax[1].set_title(\"Original\")\n",
    "    \n",
    "    ax[2].imshow(img_dict[\"IoU\"])\n",
    "    ax[2].set_title(\"Intersection over Union\")\n",
    "    \n",
    "    for i in range(0,3):\n",
    "        ax[i].set_xticks([])\n",
    "        ax[i].set_yticks([])\n",
    "        ax[i].set_xticks([])\n",
    "        ax[i].set_yticks([])\n",
    "    \n",
    "    plt.tight_layout()\n",
    "    plt.savefig(f\"{fig_dir}/example_pred2_{cell_type}_{img_id}.png\", dpi=300)"
   ]
  },
  {
   "cell_type": "code",
   "execution_count": null,
   "id": "12dcb478-9401-4862-abc8-c040e77ce0ff",
   "metadata": {},
   "outputs": [],
   "source": []
  }
 ],
 "metadata": {
  "kernelspec": {
   "display_name": "Python 3 (ipykernel)",
   "language": "python",
   "name": "python3"
  },
  "language_info": {
   "codemirror_mode": {
    "name": "ipython",
    "version": 3
   },
   "file_extension": ".py",
   "mimetype": "text/x-python",
   "name": "python",
   "nbconvert_exporter": "python",
   "pygments_lexer": "ipython3",
   "version": "3.9.4"
  }
 },
 "nbformat": 4,
 "nbformat_minor": 5
}
