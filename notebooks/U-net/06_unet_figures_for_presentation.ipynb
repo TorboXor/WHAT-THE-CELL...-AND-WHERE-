{
 "cells": [
  {
   "cell_type": "markdown",
   "id": "48ceb580-6bce-4669-87bd-3513e7e2e55e",
   "metadata": {},
   "source": [
    "# Figures\n",
    "\n",
    "Here, additional figures are generated for the neuefische GmbH Data Science Bootcamp Cologne graduation event."
   ]
  },
  {
   "cell_type": "markdown",
   "id": "bc5c19fe-b087-483d-a670-6049278f7d58",
   "metadata": {},
   "source": [
    "## Imports"
   ]
  },
  {
   "cell_type": "code",
   "execution_count": null,
   "id": "e8ccae93-dda8-4836-b26d-1be712be1d5a",
   "metadata": {},
   "outputs": [],
   "source": [
    "import os\n",
    "import pathlib\n",
    "\n",
    "import pandas as pd\n",
    "import numpy as np\n",
    "import cv2 as cv\n",
    "import imageio\n",
    "import matplotlib.pyplot as plt\n",
    "import matplotlib.patches as mpatches\n",
    "import seaborn as sns\n",
    "\n",
    "import skimage\n",
    "from skimage import io\n",
    "from skimage import color\n",
    "from skimage import filters\n",
    "from skimage.exposure import equalize_adapthist\n",
    "from skimage.exposure import adjust_gamma\n",
    "\n",
    "from PIL import Image"
   ]
  },
  {
   "cell_type": "markdown",
   "id": "50e629ce-cbf9-42a9-a047-4c0de34be848",
   "metadata": {},
   "source": [
    "## Colors"
   ]
  },
  {
   "cell_type": "code",
   "execution_count": null,
   "id": "ff8ffb09-f381-4c23-b366-eb6e387377f5",
   "metadata": {},
   "outputs": [],
   "source": [
    "fontcolor = \"#EEEEEE\"\n",
    "nf_orange = \"#FF5A36\""
   ]
  },
  {
   "cell_type": "markdown",
   "id": "df5361e6-0806-4072-82d0-3b2be7d7c826",
   "metadata": {},
   "source": [
    "## Specify which predictions to use and create corresponding figure folder"
   ]
  },
  {
   "cell_type": "code",
   "execution_count": null,
   "id": "2338b7d1-911d-4017-995e-7706391ebe41",
   "metadata": {},
   "outputs": [],
   "source": [
    "pred_dir_pick = \"U-net-from-scratch_astroS20E50_cortS60E10_shsy5yS24E25\" # Folder from which predictions are taken\n",
    "\n",
    "curr_dir = os.getcwd()\n",
    "parent_dir = pathlib.Path(curr_dir).parents[1]\n",
    "\n",
    "pred_dir = f\"{parent_dir}/data/data_preprocessed/mask_predicted/{pred_dir_pick}/\"\n",
    "\n",
    "figures_dir = f\"{parent_dir}/notebooks/U-net/figures\"\n",
    "fig_dir = f\"{parent_dir}/notebooks/U-net/figures/{pred_dir_pick}\"\n",
    "\n",
    "try:\n",
    "    os.mkdir(figures_dir)\n",
    "except:\n",
    "    print(\"Figure directory already exists\")\n",
    "    \n",
    "try:\n",
    "    os.mkdir(fig_dir)\n",
    "except:\n",
    "    print(\"Figure directory already exists\")"
   ]
  },
  {
   "cell_type": "code",
   "execution_count": null,
   "id": "a2eebf26-ee4e-47ae-8f31-9f6c02236d2b",
   "metadata": {},
   "outputs": [],
   "source": [
    "# Path to the original images\n",
    "img_path = f\"{parent_dir}/data/data_original/train/\"\n",
    "\n",
    "# Path to the original masks\n",
    "msk_path = f\"{parent_dir}/data/data_preprocessed/masks_used_for_model/\"\n",
    "\n",
    "# Path to the groundtruth masks (to get the astro masks provided via Kaggle)\n",
    "msk_kaggle_path = f\"{parent_dir}/data/data_preprocessed/mask_groundtruth/\"\n",
    "\n",
    "# Path to the predicted masks\n",
    "prd_path = f\"{parent_dir}/data/data_preprocessed/mask_predicted/{pred_dir_pick}/\""
   ]
  },
  {
   "cell_type": "markdown",
   "id": "ea29ae60-54b2-4ded-9630-462fafcd0946",
   "metadata": {},
   "source": [
    "## Load the IoU data"
   ]
  },
  {
   "cell_type": "code",
   "execution_count": null,
   "id": "80150db7-b910-4dd0-b13e-9c12212b1ff6",
   "metadata": {},
   "outputs": [],
   "source": [
    "df_iou = pd.read_csv(f\"{pred_dir}IoU.csv\")\n",
    "df_iou.head()"
   ]
  },
  {
   "cell_type": "markdown",
   "id": "3c9b63aa-ebde-4449-8a62-abdbf6c7b3d5",
   "metadata": {
    "tags": []
   },
   "source": [
    "## Figure: IoU histogram\n",
    "**Note:** Figure may be displayed with black and white background in this notebook, but the export is fully transparent"
   ]
  },
  {
   "cell_type": "code",
   "execution_count": null,
   "id": "4b6624ae-9166-43b0-973e-8d4d7f352595",
   "metadata": {},
   "outputs": [],
   "source": [
    "dataset = \"test\"\n",
    "\n",
    "df2 = df_iou[df_iou[\"dataset\"]==dataset]\n",
    "uniq_cell_type = df2[\"cell_type\"].unique()\n",
    "uniq_cell_type.sort()\n",
    "\n",
    "fig, axes = plt.subplots(1, 3)\n",
    "fig.set_figheight(4)\n",
    "fig.set_figwidth(12)\n",
    "fig.suptitle(f\"IoU distributions per cell type ({dataset} data only)\", fontsize=20)\n",
    "\n",
    "plt.rcParams.update({'text.color' : fontcolor,\n",
    "                     'axes.labelcolor' : fontcolor,\n",
    "                     'xtick.color' : fontcolor,\n",
    "                     'ytick.color' : fontcolor})\n",
    "\n",
    "for i, cell_type in enumerate(uniq_cell_type):\n",
    "    df3 = df2[df2[\"cell_type\"]==cell_type]\n",
    "\n",
    "    g = sns.histplot(ax = axes[i], data = df3, x = \"IoU\", binwidth = 0.05,\n",
    "                    edgecolor = fontcolor, color = nf_orange)\n",
    "\n",
    "    # Mean IoU\n",
    "    mean_iou = np.mean(df3[\"IoU\"])\n",
    "\n",
    "    if dataset != \"test\":\n",
    "        axes[i].set(xlim = (-0.01, 1), ylim = (0, 60))\n",
    "        axes[i].vlines(mean_iou, 0, 55, colors=fontcolor, linestyles='dashed') \n",
    "    else:\n",
    "        axes[i].set(xlim = (-0.01, 1), ylim = (0, 25))\n",
    "        axes[i].vlines(mean_iou, 0, 22, colors=fontcolor, linestyles='dashed') \n",
    "\n",
    "    trans = axes[i].get_xaxis_transform()\n",
    "    axes[i].text(mean_iou+0.02,0.875,f\"Mean: {round(mean_iou,2)}\", transform=trans, fontsize=14)\n",
    "\n",
    "    axes[i].set_title(cell_type, fontsize=16)\n",
    "    axes[i].set_xlabel('IoU', fontsize=14)\n",
    "    axes[i].set_ylabel('N images', fontsize=14)\n",
    "    axes[i].spines['left'].set_color(fontcolor)\n",
    "    axes[i].spines['bottom'].set_color(fontcolor) \n",
    "\n",
    "    sns.despine(top = True, right = True)\n",
    "\n",
    "    plt.tight_layout()\n",
    "    plt.savefig(f\"{fig_dir}/pres_mean_IoU_{dataset}.png\", dpi=300, transparent=True)"
   ]
  },
  {
   "cell_type": "markdown",
   "id": "cbeedd6e-3a6a-4883-9a99-4f0619e3e735",
   "metadata": {
    "tags": []
   },
   "source": [
    "## Define functions for image transformation"
   ]
  },
  {
   "cell_type": "code",
   "execution_count": null,
   "id": "54584045-c1f4-4044-96eb-c3827f79c58f",
   "metadata": {},
   "outputs": [],
   "source": [
    "def make_IoU_img(msk, prd):\n",
    "    prd = np.expand_dims(prd, axis = 2)\n",
    "    msk = np.expand_dims(msk, axis = 2)\n",
    "    \n",
    "    r = ((prd!=0) | (msk!=0)).astype(dtype = np.uint8) * 255\n",
    "    g = ((prd!=0) & (msk!=0)).astype(dtype = np.uint8) * 255\n",
    "    b = np.zeros(r.shape)\n",
    "\n",
    "    img_iou = np.concatenate((r, g, b), axis = 2)\n",
    "    \n",
    "    return img_iou\n",
    "\n",
    "\n",
    "def make_mask(img, transparent_background = False, use_for_overlay = False):\n",
    "        g = np.expand_dims(img!=0, axis = 2).astype(dtype = np.uint8) * 255\n",
    "        \n",
    "        if use_for_overlay: # segmentation highlighted in green\n",
    "            r = np.zeros(g.shape)\n",
    "            b = np.zeros(g.shape)\n",
    "        else: # segmentation highlighted in white\n",
    "            r = np.expand_dims(img!=0, axis = 2).astype(dtype = np.uint8) * 255\n",
    "            b = np.expand_dims(img!=0, axis = 2).astype(dtype = np.uint8) * 255\n",
    "        \n",
    "        img = np.concatenate((r, g, b), axis = 2)\n",
    "\n",
    "        # Use Pillow to make every black pixel fully transparent\n",
    "        if transparent_background:\n",
    "            img = Image.fromarray(img.astype(np.uint8))\n",
    "            img = img.convert(\"RGBA\")\n",
    "\n",
    "            datas = img.getdata()\n",
    "            newData = []\n",
    "            for item in datas:\n",
    "                if item[0] == 0 and item[1] == 0 and item[2] == 0:\n",
    "                    newData.append((255, 255, 255, 0))\n",
    "                else:\n",
    "                    newData.append(item)\n",
    "\n",
    "            img.putdata(newData)\n",
    "\n",
    "        return img\n",
    "\n",
    "\n",
    "def enhance_image(img):\n",
    "    img = equalize_adapthist(img, clip_limit=0.025)\n",
    "    img = adjust_gamma(img, gamma=0.6,gain=1)\n",
    "    \n",
    "    return img\n",
    "\n",
    "\n",
    "def img_slicer(img):\n",
    "    HEIGHT = img.shape[0]\n",
    "    WIDTH  = img.shape[1]\n",
    "    \n",
    "    upper = range(0, int(HEIGHT/2))\n",
    "    lower = range(int(HEIGHT/2), HEIGHT)\n",
    "    \n",
    "    left  = range(0, int(WIDTH/2))\n",
    "    right = range(int(WIDTH/2), WIDTH)\n",
    "    \n",
    "    img_a = img[upper,:][:,left]\n",
    "    img_b = img[upper,:][:,right]\n",
    "    img_c = img[lower,:][:,left]\n",
    "    img_d = img[lower,:][:,right]\n",
    "    \n",
    "    return img_b # For now, hard-coded to return the upper right portion\n",
    "    \n",
    "\n",
    "\n",
    "def create_images(img_id, img_path, msk_path, prd_path, use_slice = False):\n",
    "    # Store the following in a dictionary for visualization:\n",
    "    # - enhanced image (more contrast and brightness)\n",
    "    # - original/predicted mask with black background and bright cell segments\n",
    "    # - original/predicted mask with transparent background for image-mask overlay\n",
    "    # - IoU visualization\n",
    "    \n",
    "    # Read image, original mask and prediction\n",
    "    img = imageio.imread(f\"{img_path}{img_id}.png\")\n",
    "    msk = imageio.imread(f\"{msk_path}{img_id}_mask.png\")\n",
    "    prd = imageio.imread(f\"{prd_path}masks/{img_id}_pred.png\")\n",
    "    \n",
    "    # If only a single quadrant of the image is used:\n",
    "    if use_slice:\n",
    "        img = img_slicer(img)\n",
    "        msk = img_slicer(msk)\n",
    "        prd = img_slicer(prd)\n",
    "        \n",
    "\n",
    "    # Enhance the image's contrast and brightness and store in dictionary\n",
    "    img_dict = {\"image\": enhance_image(img)}\n",
    "    # img_dict = {\"image\": img} # show the unenhanced image instead\n",
    "    \n",
    "    # Convert prediction and mask colors and store without/with transparent background\n",
    "    img_dict[\"msk_orig\"] = make_mask(msk)\n",
    "    img_dict[\"msk_pred\"] = make_mask(prd)\n",
    "    img_dict[\"msk_orig_trans\"] = make_mask(msk, transparent_background = True, use_for_overlay = True)\n",
    "    img_dict[\"msk_pred_trans\"] = make_mask(prd, transparent_background = True, use_for_overlay = True)\n",
    "    \n",
    "    # Create and store IoU\n",
    "    img_dict[\"IoU\"] = make_IoU_img(msk, prd)\n",
    "    \n",
    "    return img_dict"
   ]
  },
  {
   "cell_type": "markdown",
   "id": "55b9c856-49ee-4437-9c27-21b1a7bf7b00",
   "metadata": {
    "tags": []
   },
   "source": [
    "## Figure: Enhanced image with predicted mask overlay"
   ]
  },
  {
   "cell_type": "code",
   "execution_count": null,
   "id": "02454017-99f3-4d74-b20e-0acdd845b84d",
   "metadata": {},
   "outputs": [],
   "source": [
    "# To be visualized image IDs\n",
    "img_ids = [\"0140b3c8f445\", \"6b165d790e33\", \"db8bc8f09776\"]"
   ]
  },
  {
   "cell_type": "code",
   "execution_count": null,
   "id": "08125ff4-8642-42aa-9402-d008d3b139f9",
   "metadata": {},
   "outputs": [],
   "source": [
    "for img_id in img_ids:\n",
    "    \n",
    "    # Read IoU and cell type\n",
    "    IoU       = df_iou.loc[df_iou[\"id\"]==img_id, \"IoU\"].values[0]\n",
    "    cell_type = df_iou.loc[df_iou[\"id\"]==img_id, \"cell_type\"].values[0]\n",
    "    \n",
    "    # Read and convert images and masks\n",
    "    img_dict = create_images(img_id, img_path, msk_path, prd_path)\n",
    "    \n",
    "    # Plot original image with mask overlay\n",
    "    fig = plt.figure(figsize = (10, 10))\n",
    "    plt.imshow(img_dict[\"image\"], cmap = \"gray\")\n",
    "    plt.imshow(img_dict[\"msk_pred_trans\"], alpha = 0.3)\n",
    "    plt.axis('off')\n",
    "    plt.savefig(f\"{fig_dir}/pred_overlay_{cell_type}_{img_id}.png\", dpi=500)"
   ]
  },
  {
   "cell_type": "markdown",
   "id": "a80c3c72-5996-4b61-991a-e00213b2e643",
   "metadata": {
    "tags": []
   },
   "source": [
    "## Figure: Sliced/unsliced examples without mask overlay"
   ]
  },
  {
   "cell_type": "code",
   "execution_count": null,
   "id": "4a73b6d3-0c8d-4213-99e0-68bbf6e25d65",
   "metadata": {},
   "outputs": [],
   "source": [
    "# To be visualized image IDs\n",
    "img_ids = [\"0140b3c8f445\", \"6b165d790e33\", \"db8bc8f09776\"]\n",
    "\n",
    "for use_slice in [True, False]:\n",
    "    for img_id in img_ids:\n",
    "        \n",
    "        # Read IoU and cell type\n",
    "        IoU       = df_iou.loc[df_iou[\"id\"]==img_id, \"IoU\"].values[0]\n",
    "        cell_type = df_iou.loc[df_iou[\"id\"]==img_id, \"cell_type\"].values[0]\n",
    "        \n",
    "        # Read and convert images and masks\n",
    "        img_dict = create_images(img_id, img_path, msk_path, prd_path, use_slice = use_slice)\n",
    "        \n",
    "        # Plot original image with mask overlay\n",
    "        fig = plt.figure(figsize = (10, 10))\n",
    "        plt.imshow(img_dict[\"image\"], cmap = \"gray\")\n",
    "        plt.axis('off')\n",
    "        \n",
    "        if use_slice:\n",
    "            plt.savefig(f\"{fig_dir}/img_b_only_{cell_type}_{img_id}.png\", dpi=500)\n",
    "        else:\n",
    "            plt.savefig(f\"{fig_dir}/img_only_{cell_type}_{img_id}.png\", dpi=500)"
   ]
  },
  {
   "cell_type": "markdown",
   "id": "ab91220e-3b4d-4d4c-834b-d5c61ad102ec",
   "metadata": {
    "tags": []
   },
   "source": [
    "## Figure: Un(sliced) masks only"
   ]
  },
  {
   "cell_type": "code",
   "execution_count": null,
   "id": "52fa960a-d165-4017-ae16-2b18589a3523",
   "metadata": {},
   "outputs": [],
   "source": [
    "# To be visualized image IDs\n",
    "img_ids = [\"0140b3c8f445\", \"6b165d790e33\", \"db8bc8f09776\"]\n",
    "\n",
    "for use_slice in [True, False]:\n",
    "    for img_id in img_ids:\n",
    "        \n",
    "        # Read IoU and cell type\n",
    "        IoU       = df_iou.loc[df_iou[\"id\"]==img_id, \"IoU\"].values[0]\n",
    "        cell_type = df_iou.loc[df_iou[\"id\"]==img_id, \"cell_type\"].values[0]\n",
    "        \n",
    "        # Read and convert images and masks\n",
    "        img_dict = create_images(img_id, img_path, msk_path, prd_path, use_slice = use_slice)\n",
    "        \n",
    "        # Plot original image with mask overlay\n",
    "        fig = plt.figure(figsize = (10, 10))\n",
    "        plt.imshow(img_dict[\"msk_pred\"])\n",
    "        plt.axis('off')\n",
    "        \n",
    "        if use_slice:\n",
    "            plt.savefig(f\"{fig_dir}/msk_b_only_{cell_type}_{img_id}.png\", dpi=500)\n",
    "        else:\n",
    "            plt.savefig(f\"{fig_dir}/msk_only_{cell_type}_{img_id}.png\", dpi=500)"
   ]
  },
  {
   "cell_type": "markdown",
   "id": "4013320b-f3fc-4f36-8089-523e3b635839",
   "metadata": {
    "tags": []
   },
   "source": [
    "## Figure: Sliced examples with prediction"
   ]
  },
  {
   "cell_type": "code",
   "execution_count": null,
   "id": "bf418fad-e171-4dab-814f-bf9c07933e46",
   "metadata": {},
   "outputs": [],
   "source": [
    "# To be visualized image IDs\n",
    "img_ids = [\"0140b3c8f445\", \"6b165d790e33\", \"db8bc8f09776\"]\n",
    "\n",
    "for img_id in img_ids:\n",
    "        \n",
    "    # Read IoU and cell type\n",
    "    IoU       = df_iou.loc[df_iou[\"id\"]==img_id, \"IoU\"].values[0]\n",
    "    cell_type = df_iou.loc[df_iou[\"id\"]==img_id, \"cell_type\"].values[0]\n",
    "    \n",
    "    # Read and convert images and masks\n",
    "    img_dict = create_images(img_id, img_path, msk_path, prd_path, use_slice = True)\n",
    "    \n",
    "    # Plot original image with mask overlay\n",
    "    fig = plt.figure(figsize = (10, 10))\n",
    "    plt.imshow(img_dict[\"image\"], cmap = \"gray\")\n",
    "    plt.imshow(img_dict[\"msk_pred_trans\"], alpha = 0.3)\n",
    "    plt.axis('off')\n",
    "    \n",
    "    plt.savefig(f\"{fig_dir}/img_b_pred_overlay_{cell_type}_{img_id}.png\", dpi=500)\n"
   ]
  },
  {
   "cell_type": "markdown",
   "id": "96a3a8c1-c8d5-416d-baae-8013830bf518",
   "metadata": {
    "tags": []
   },
   "source": [
    "## Figure: Enhanced image with CG mask overlay (astro only)"
   ]
  },
  {
   "cell_type": "code",
   "execution_count": null,
   "id": "28bc3e66-91a4-4847-b66b-099d30c03942",
   "metadata": {},
   "outputs": [],
   "source": [
    "img_id = \"0140b3c8f445\"\n",
    "\n",
    "# Read IoU and cell type\n",
    "IoU       = df_iou.loc[df_iou[\"id\"]==img_id, \"IoU\"].values[0]\n",
    "cell_type = df_iou.loc[df_iou[\"id\"]==img_id, \"cell_type\"].values[0]\n",
    "\n",
    "# Read and convert images and masks\n",
    "img_dict = create_images(img_id, img_path, msk_path, prd_path)\n",
    "\n",
    "# Plot original image with mask overlay\n",
    "fig = plt.figure(figsize = (10, 10))\n",
    "plt.imshow(img_dict[\"image\"], cmap = \"gray\")\n",
    "plt.imshow(img_dict[\"msk_orig_trans\"], alpha = 0.3)\n",
    "plt.axis('off')\n",
    "plt.savefig(f\"{fig_dir}/mask_cg_{cell_type}_{img_id}.png\", dpi=500)"
   ]
  },
  {
   "cell_type": "markdown",
   "id": "7ccbc035-304d-4f7a-be79-584a5ce9d464",
   "metadata": {
    "tags": []
   },
   "source": [
    "## Figure: Enhanced image with original Kaggle mask overlay (astro only)"
   ]
  },
  {
   "cell_type": "code",
   "execution_count": null,
   "id": "7d1f6091-4067-487b-b090-44f98087c623",
   "metadata": {},
   "outputs": [],
   "source": [
    "img_id = \"0140b3c8f445\"\n",
    "\n",
    "# Read IoU and cell type\n",
    "IoU       = df_iou.loc[df_iou[\"id\"]==img_id, \"IoU\"].values[0]\n",
    "cell_type = df_iou.loc[df_iou[\"id\"]==img_id, \"cell_type\"].values[0]\n",
    "\n",
    "# Read and convert images and masks\n",
    "img_dict = create_images(img_id, img_path, msk_kaggle_path, prd_path)\n",
    "\n",
    "# Plot original image with mask overlay\n",
    "fig = plt.figure(figsize = (10, 10))\n",
    "plt.imshow(img_dict[\"image\"], cmap = \"gray\")\n",
    "plt.imshow(img_dict[\"msk_orig_trans\"], alpha = 0.3)\n",
    "plt.axis('off')\n",
    "plt.savefig(f\"{fig_dir}/mask_kaggle_{cell_type}_{img_id}.png\", dpi=500)"
   ]
  },
  {
   "cell_type": "markdown",
   "id": "7f47916f-2ea8-4c14-b13f-0ae6ae9c3efc",
   "metadata": {
    "tags": []
   },
   "source": [
    "## Figure: K-means cluster + Gauss filter example"
   ]
  },
  {
   "cell_type": "code",
   "execution_count": null,
   "id": "a7d24fb1-7e6a-44c7-a802-046369285396",
   "metadata": {},
   "outputs": [],
   "source": [
    "km_img    = imageio.imread(\"../run_once_preprocessing/kmeans_ex_image.png\")\n",
    "km_kmeans = imageio.imread(\"../run_once_preprocessing/kmeans_ex_kmeans.png\")\n",
    "km_gauss  = imageio.imread(\"../run_once_preprocessing/kmeans_ex_gauss.png\")\n",
    "km_pred   = imageio.imread(\"../run_once_preprocessing/kmeans_ex_mask.png\")\n",
    "\n",
    "# km_img = enhance_image(km_img)\n",
    "km_pred = make_mask(km_pred)"
   ]
  },
  {
   "cell_type": "code",
   "execution_count": null,
   "id": "4fe75b85-287d-4225-a171-8e6c04f9f23f",
   "metadata": {},
   "outputs": [],
   "source": [
    "fig, ax = plt.subplots(1, 4)\n",
    "fig.set_figheight(5)\n",
    "fig.set_figwidth(15)\n",
    "\n",
    "ax[0].imshow(adjust_gamma(km_img, gamma=0.6,gain=1), cmap='gray')\n",
    "ax[1].imshow(adjust_gamma(km_kmeans, gamma=0.6,gain=1), cmap='gray')\n",
    "ax[2].imshow(adjust_gamma(km_gauss, gamma=0.6,gain=1), cmap='gray')\n",
    "ax[3].imshow(km_pred)\n",
    "\n",
    "\n",
    "for i in range(0,4):\n",
    "    ax[i].set_xticks([])\n",
    "    ax[i].set_yticks([])\n",
    "    ax[i].set_xticks([])\n",
    "    ax[i].set_yticks([])\n",
    "\n",
    "plt.tight_layout()\n",
    "plt.savefig(\"figures/kmeans_example.png\", dpi=300)"
   ]
  },
  {
   "cell_type": "markdown",
   "id": "571f5736-8620-43ae-be64-ca631cbfa906",
   "metadata": {
    "tags": []
   },
   "source": [
    "## Figure: IoU example"
   ]
  },
  {
   "cell_type": "code",
   "execution_count": null,
   "id": "a37d0b53-aa7d-45fc-aa5f-db205a203f9c",
   "metadata": {},
   "outputs": [],
   "source": [
    "for img_id in img_ids:\n",
    "    IoU       = df_iou.loc[df_iou[\"id\"]==img_id, \"IoU\"].values[0]\n",
    "    cell_type = df_iou.loc[df_iou[\"id\"]==img_id, \"cell_type\"].values[0]\n",
    "    \n",
    "    # Read and convert images and masks\n",
    "    img_dict = create_images(img_id, img_path, msk_path, prd_path)\n",
    "    \n",
    "    plt.rcParams.update({'text.color' : \"#eeeeee\",\n",
    "                     'axes.labelcolor' : \"#eeeeee\",\n",
    "                        'xtick.color' : \"#eeeeee\",\n",
    "                        'ytick.color' : \"#eeeeee\"})\n",
    "    \n",
    "    fig, ax = plt.subplots(1, 3)\n",
    "    fig.set_figheight(3.3)\n",
    "    fig.set_figwidth(10)\n",
    "    fig.suptitle(\"Cell type: {}, intersection over union: {}\".format(cell_type, round(IoU,2)),\n",
    "                 fontsize = 16)\n",
    "    \n",
    "    ax[0].imshow(img_dict[\"msk_pred\"])\n",
    "    ax[0].set_title(\"Prediction\")\n",
    "    \n",
    "    ax[1].imshow(img_dict[\"msk_orig\"])\n",
    "    ax[1].set_title(\"Original\")\n",
    "    \n",
    "    ax[2].imshow(img_dict[\"IoU\"])\n",
    "    ax[2].set_title(\"Intersection over Union\")\n",
    "    \n",
    "    for i in range(0,3):\n",
    "        ax[i].set_xticks([])\n",
    "        ax[i].set_yticks([])\n",
    "        ax[i].set_xticks([])\n",
    "        ax[i].set_yticks([])\n",
    "    \n",
    "    plt.tight_layout()\n",
    "    plt.savefig(f\"{fig_dir}/example_pred2_{cell_type}_{img_id}.png\", dpi=300)"
   ]
  },
  {
   "cell_type": "markdown",
   "id": "da292958-e440-4411-a602-ba6d565e4049",
   "metadata": {
    "tags": []
   },
   "source": [
    "## Figure: Best/worst test IoU per cell type"
   ]
  },
  {
   "cell_type": "code",
   "execution_count": null,
   "id": "3299673b-743d-41a1-a81b-9126b248389e",
   "metadata": {},
   "outputs": [],
   "source": [
    "df2 = df_iou[df_iou[\"dataset\"]==\"test\"]\n",
    "\n",
    "uniq_cell_type = df2[\"cell_type\"].unique()\n",
    "\n",
    "img_ids_dict = dict()\n",
    "\n",
    "for cell_type in uniq_cell_type:\n",
    "    df3 = df2[df2[\"cell_type\"]==cell_type]\n",
    "    \n",
    "    img_ids_dict[f\"{cell_type}_worst\"] = df3.loc[df3[\"IoU\"]==np.min(df3[\"IoU\"]), \"id\"].values[0]\n",
    "    img_ids_dict[f\"{cell_type}_best\"]  = df3.loc[df3[\"IoU\"]==np.max(df3[\"IoU\"]), \"id\"].values[0]"
   ]
  },
  {
   "cell_type": "code",
   "execution_count": null,
   "id": "542e8af9-06fb-4689-8427-d201ace4dba4",
   "metadata": {},
   "outputs": [],
   "source": [
    "for img_type, img_id in img_ids_dict.items():\n",
    "    \n",
    "    IoU       = df_iou.loc[df_iou[\"id\"]==img_id, \"IoU\"].values[0]\n",
    "    cell_type = df_iou.loc[df_iou[\"id\"]==img_id, \"cell_type\"].values[0]\n",
    "    \n",
    "    # Read and convert images and masks\n",
    "    img_dict = create_images(img_id, img_path, msk_path, prd_path)\n",
    "    \n",
    "    plt.rcParams.update({'text.color' : \"#eeeeee\",\n",
    "                     'axes.labelcolor' : \"#eeeeee\",\n",
    "                        'xtick.color' : \"#eeeeee\",\n",
    "                        'ytick.color' : \"#eeeeee\"})\n",
    "    \n",
    "    fig, ax = plt.subplots(1, 4)\n",
    "    fig.set_figheight(2.8)\n",
    "    fig.set_figwidth(10)\n",
    "    fig.suptitle(\"Cell type: {}, intersection over union: {}\".format(cell_type, round(IoU,2)),\n",
    "                 fontsize = 16)\n",
    "    \n",
    "    ax[0].imshow(img_dict[\"image\"], cmap = \"gray\")\n",
    "    ax[0].set_title(\"Image\")\n",
    "    \n",
    "    ax[1].imshow(img_dict[\"msk_pred\"])\n",
    "    ax[1].set_title(\"Prediction\")\n",
    "    \n",
    "    ax[2].imshow(img_dict[\"msk_orig\"])\n",
    "    ax[2].set_title(\"Original\")\n",
    "    \n",
    "    ax[3].imshow(img_dict[\"IoU\"])\n",
    "    ax[3].set_title(\"Intersection over Union\")\n",
    "    \n",
    "    for i in range(0,4):\n",
    "        ax[i].set_xticks([])\n",
    "        ax[i].set_yticks([])\n",
    "        ax[i].set_xticks([])\n",
    "        ax[i].set_yticks([])\n",
    "    \n",
    "    plt.tight_layout()\n",
    "    plt.savefig(f\"{fig_dir}/{img_type}_{img_id}.png\", dpi=500)"
   ]
  },
  {
   "cell_type": "code",
   "execution_count": null,
   "id": "36b6e64b-34fa-41a3-89df-6c733accd6b9",
   "metadata": {},
   "outputs": [],
   "source": []
  }
 ],
 "metadata": {
  "kernelspec": {
   "display_name": "Python 3 (ipykernel)",
   "language": "python",
   "name": "python3"
  },
  "language_info": {
   "codemirror_mode": {
    "name": "ipython",
    "version": 3
   },
   "file_extension": ".py",
   "mimetype": "text/x-python",
   "name": "python",
   "nbconvert_exporter": "python",
   "pygments_lexer": "ipython3",
   "version": "3.9.4"
  }
 },
 "nbformat": 4,
 "nbformat_minor": 5
}
