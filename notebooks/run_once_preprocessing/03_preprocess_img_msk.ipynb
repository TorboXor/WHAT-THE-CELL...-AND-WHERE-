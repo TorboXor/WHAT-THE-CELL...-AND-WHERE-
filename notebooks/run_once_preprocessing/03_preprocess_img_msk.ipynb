{
 "cells": [
  {
   "cell_type": "markdown",
   "id": "9fee660f-e890-4057-bdd3-f94f62a00cc8",
   "metadata": {},
   "source": [
    "# Preprocess images and masks\n",
    "* Generate masks from the original Kaggle annotations\n",
    "* Convert the masks generated with clustering and SIFT/Gauss filtering into the same format as the original masks\n",
    "* Slice images and masks into four parts for easier handling during U-net modeling"
   ]
  },
  {
   "cell_type": "code",
   "execution_count": null,
   "id": "99de9ecc-9ac9-4227-b348-308012b54984",
   "metadata": {},
   "outputs": [],
   "source": [
    "import os\n",
    "import pathlib\n",
    "import shutil\n",
    "\n",
    "import pandas as pd\n",
    "import numpy as np\n",
    "\n",
    "import imageio\n",
    "import matplotlib.pyplot as plt"
   ]
  },
  {
   "cell_type": "code",
   "execution_count": null,
   "id": "59e19a3e-89af-474f-b047-054ae910ee97",
   "metadata": {},
   "outputs": [],
   "source": [
    "# Get the directory of the repository\n",
    "curr_dir = os.getcwd()\n",
    "parent_dir = pathlib.Path(curr_dir).parents[1]\n",
    "print(parent_dir)"
   ]
  },
  {
   "cell_type": "code",
   "execution_count": null,
   "id": "d2c56b76-3495-41e2-8022-2bec402ce60b",
   "metadata": {},
   "outputs": [],
   "source": [
    "# Load the original Kaggle metadata file\n",
    "filename = f\"{parent_dir}/data/data_original/train.csv\"\n",
    "df = pd.read_csv(filename)\n",
    "\n",
    "HEIGHT = 520 #image height\n",
    "WIDTH = 704 #image width\n",
    "shape = (HEIGHT, WIDTH)"
   ]
  },
  {
   "cell_type": "markdown",
   "id": "b8c1a7d9-01ae-46a0-98ce-c2c803350528",
   "metadata": {},
   "source": [
    "## Create single-channel and one-hot-encoded masks from the running length annotations\n",
    "* `ID_mask.png` &rarr; single-channel masks\n",
    "* `ID_mask_oh.png` &rarr; one-hot masks"
   ]
  },
  {
   "cell_type": "code",
   "execution_count": null,
   "id": "852fef56-c783-4360-ac1c-5a8fa8d57fed",
   "metadata": {},
   "outputs": [],
   "source": [
    "unique_id = df.id.unique()\n",
    "\n",
    "\n",
    "for i, my_id in enumerate(unique_id):\n",
    "    df_subs = df[df.id==my_id]\n",
    "    mask = np.zeros(np.prod(shape), dtype = np.uint8)\n",
    "\n",
    "    for annotation in df_subs.annotation:\n",
    "        annotation = annotation.split()\n",
    "        list_1s = [(int(start)-1, int(start)-1 + int(length)) for start, length in zip(annotation[0:][::2], annotation[1:][::2])]\n",
    "        for start, end in list_1s:\n",
    "            mask[start:end] += 1\n",
    "\n",
    "    mask[mask>1] = 1 # Do not treat overlap as separate class\n",
    "\n",
    "    mask = mask.reshape(shape)\n",
    "    \n",
    "    # One class regardless of overlap (third channel is padding to still be able to save as RGB image)\n",
    "    mask_oh = np.zeros((HEIGHT, WIDTH, 3), dtype = np.uint8)\n",
    "    mask_oh[:,:,0] = (mask==0).astype(int)\n",
    "    mask_oh[:,:,1] = (mask>0).astype(int)\n",
    "    \n",
    "    # # Separate class for overlapping annotations\n",
    "    # mask_oh = np.zeros((HEIGHT, WIDTH, 3), dtype = np.uint8)\n",
    "    # mask_oh[:,:,0] = (mask==0).astype(int)\n",
    "    # mask_oh[:,:,1] = (mask==1).astype(int)\n",
    "    # mask_oh[:,:,2] = (mask==2).astype(int)\n",
    "\n",
    "    mask_folder = f\"{parent_dir}/data/data_preprocessed/mask_groundtruth/\"\n",
    "\n",
    "    mask_path    = mask_folder + my_id + '_mask.png'\n",
    "    mask_oh_path = mask_folder + my_id + '_mask_oh.png'\n",
    "\n",
    "    imageio.imwrite(mask_path, mask)\n",
    "    imageio.imwrite(mask_oh_path, mask_oh)\n",
    "    \n",
    "    if (i+1)%100==0:\n",
    "        print(f\"{i+1} images processed\")"
   ]
  },
  {
   "cell_type": "markdown",
   "id": "2c701ab5-00b2-46d3-87bc-b6e6be3bf075",
   "metadata": {},
   "source": [
    "## Copy the results to new folders where the astro masks are going to be replaced with the clustering masks\n",
    "\n",
    "Further down in this notebook, masks based on the clustering algorithm (see notebooks `Jonas's notebook` and `Torben's notebook`) are generated for astro images only. Here, we copy the original masks in these folders as the modeling pipeline picks a folder that needs to contain all masks (original for cort and shsy5y, clustering for astro) rather than selecting the desired mask type across folders for each cell type individually\n",
    "\n",
    "#### Nomenclature:\n",
    "* cg = masks based on clustering + Gauss filter\n",
    "* cs = masks based on clustering + SIFT"
   ]
  },
  {
   "cell_type": "code",
   "execution_count": null,
   "id": "5ad929cd-a2fa-45a6-be95-0a107773973c",
   "metadata": {},
   "outputs": [],
   "source": [
    "dir_data   = f\"{parent_dir}/data/data_preprocessed/\"\n",
    "dir_source = f\"{dir_data}/mask_groundtruth/\"\n",
    "\n",
    "# clustered-SIFT -> masks_cs\n",
    "dir_target = dir_data +  \"mask_cluster/masks_cs/\"\n",
    "shutil.copytree(dir_source, dir_target, dirs_exist_ok=True)\n",
    "\n",
    "\n",
    "# clustered-Gauss -> masks_cg\n",
    "dir_target = dir_data +  \"mask_cluster/masks_cg/\"\n",
    "shutil.copytree(dir_source, dir_target, dirs_exist_ok=True)"
   ]
  },
  {
   "cell_type": "markdown",
   "id": "05c13e7e-e91c-4dd5-a2d2-4926bad14bfb",
   "metadata": {},
   "source": [
    "## Convert and store the masks generated with clustering for cell type \"astro\""
   ]
  },
  {
   "cell_type": "code",
   "execution_count": null,
   "id": "73b75719-e467-4986-8b08-a999a9afef2a",
   "metadata": {},
   "outputs": [],
   "source": [
    "# For loading the clustered masks\n",
    "dir_cluster = f\"{dir_data}/mask_cluster/\"\n",
    "\n",
    "# For storing the selected and preprocessed clustered masks -> folder dictionary -> {cg source: target, cs source: target}\n",
    "folders = {\"segmented_img/\": \"masks_cg/\", \"segmented_img_sift/\": \"masks_cs/\"}\n",
    "\n",
    "# To select astro masks only\n",
    "df.drop_duplicates(subset = \"id\", inplace = True)\n",
    "mask_ids = df.loc[df[\"cell_type\"]==\"astro\",\"id\"].tolist()"
   ]
  },
  {
   "cell_type": "code",
   "execution_count": null,
   "id": "82a78621-1fe9-46fe-b95a-87bd25a16622",
   "metadata": {},
   "outputs": [],
   "source": [
    "# Loop over cg and cs\n",
    "for source, target in folders.items():\n",
    "    \n",
    "    # Loop over mask IDs\n",
    "    for mask_id in mask_ids:\n",
    "        \n",
    "        mask = imageio.imread(f\"{dir_cluster}before_preprocessing/{source}{mask_id}_seg.png\")\n",
    "        \n",
    "        # Transform pixel values from [0, 255] to [0, 1]\n",
    "        mask = (mask==255).astype(np.uint8)\n",
    "        \n",
    "        # One-hot masks with two channels (third channel is padding to still be able to save as RGB image)\n",
    "        mask_oh = np.zeros((mask.shape[0], mask.shape[1], 3))\n",
    "        mask_oh[:,:,0] = (mask==0).astype(int)\n",
    "        mask_oh[:,:,1] = (mask>0).astype(int)\n",
    "        \n",
    "        # # Create one-hot encoded mask - keep three channels despite n classes = 2 to ensure compatibility\n",
    "        # # with the masks created from the original annotations\n",
    "        # mask_oh = np.zeros((mask.shape[0], mask.shape[1], 3))\n",
    "        # mask_oh[:,:,0] = (mask==0)\n",
    "        # mask_oh[:,:,1] = (mask==1)\n",
    "        # mask_oh[:,:,2] = (mask==2)\n",
    "        \n",
    "        # Store the masks\n",
    "        imageio.imwrite(f\"{dir_cluster}{target}{mask_id}_mask.png\", mask.astype(np.uint8))\n",
    "        imageio.imwrite(f\"{dir_cluster}{target}{mask_id}_mask_oh.png\", mask_oh.astype(np.uint8))"
   ]
  },
  {
   "cell_type": "code",
   "execution_count": null,
   "id": "ce55ca4f-8225-4b0e-ac12-ccb103994229",
   "metadata": {},
   "outputs": [],
   "source": [
    "# Plot single image mask to check everything went okay\n",
    "fig, ax = plt.subplots(1,2)\n",
    "ax[0].imshow(mask)\n",
    "ax[1].imshow(mask_oh)"
   ]
  },
  {
   "cell_type": "markdown",
   "id": "36ff2562-820c-41ea-b02b-b13673741b8c",
   "metadata": {},
   "source": [
    "## Slice images and masks in four quadrants\n",
    "Our U-net implementations take 128 x 128 pixels input images and masks to preserve RAM. To not lose too much of the original images' resolution, we split the images into four parts before feeding them into our models."
   ]
  },
  {
   "cell_type": "markdown",
   "id": "6e8b440a-268f-4433-9e8e-c2efd7e87ba7",
   "metadata": {},
   "source": [
    "### Define the slicing function"
   ]
  },
  {
   "cell_type": "code",
   "execution_count": null,
   "id": "af43c48c-b486-47be-885b-1e441caf8d95",
   "metadata": {},
   "outputs": [],
   "source": [
    "def img_slicer(dir_source, dir_target):\n",
    "    \n",
    "    fname_orig = [f for f in os.listdir(dir_source) if f.endswith('.png')]\n",
    "    \n",
    "    for fname in fname_orig:\n",
    "        img = imageio.imread(dir_source + fname)\n",
    "        \n",
    "        upper = range(0, int(HEIGHT/2))\n",
    "        lower = range(int(HEIGHT/2), HEIGHT)\n",
    "        \n",
    "        left  = range(0, int(WIDTH/2))\n",
    "        right = range(int(WIDTH/2), WIDTH)\n",
    "        \n",
    "        img_a = img[upper,:][:,left]\n",
    "        img_b = img[upper,:][:,right]\n",
    "        img_c = img[lower,:][:,left]\n",
    "        img_d = img[lower,:][:,right]\n",
    "        \n",
    "        fname_no_ext = fname.split(\".\")[0]\n",
    "        \n",
    "        if \"mask_oh\" in fname_no_ext:\n",
    "            fname_no_ext = fname_no_ext.split(\"_\")\n",
    "            imageio.imwrite(dir_target + fname_no_ext[0] + \"_a_mask_oh.png\", img_a)\n",
    "            imageio.imwrite(dir_target + fname_no_ext[0] + \"_b_mask_oh.png\", img_b)\n",
    "            imageio.imwrite(dir_target + fname_no_ext[0] + \"_c_mask_oh.png\", img_c)\n",
    "            imageio.imwrite(dir_target + fname_no_ext[0] + \"_d_mask_oh.png\", img_d)\n",
    "        elif \"mask\" in fname_no_ext:\n",
    "            fname_no_ext = fname_no_ext.split(\"_\")\n",
    "            imageio.imwrite(dir_target + fname_no_ext[0] + \"_a_mask.png\", img_a)\n",
    "            imageio.imwrite(dir_target + fname_no_ext[0] + \"_b_mask.png\", img_b)\n",
    "            imageio.imwrite(dir_target + fname_no_ext[0] + \"_c_mask.png\", img_c)\n",
    "            imageio.imwrite(dir_target + fname_no_ext[0] + \"_d_mask.png\", img_d)\n",
    "        else:\n",
    "            imageio.imwrite(dir_target + fname_no_ext + \"_a.png\", img_a)\n",
    "            imageio.imwrite(dir_target + fname_no_ext + \"_b.png\", img_b)\n",
    "            imageio.imwrite(dir_target + fname_no_ext + \"_c.png\", img_c)\n",
    "            imageio.imwrite(dir_target + fname_no_ext + \"_d.png\", img_d)"
   ]
  },
  {
   "cell_type": "markdown",
   "id": "7b32be4a-ea46-4938-a577-e6efa165f2da",
   "metadata": {},
   "source": [
    "### Process the original images"
   ]
  },
  {
   "cell_type": "code",
   "execution_count": null,
   "id": "343d352b-910e-4564-a84d-bd20e905a925",
   "metadata": {},
   "outputs": [],
   "source": [
    "# Run the image slicer on the original images\n",
    "dir_data   = f\"{parent_dir}/data/\"\n",
    "dir_source = f\"{dir_data}/data_original/train/\"\n",
    "dir_target = f\"{dir_data}/data_preprocessed/sliced_images/images/\"\n",
    "\n",
    "img_slicer(dir_source, dir_target)"
   ]
  },
  {
   "cell_type": "code",
   "execution_count": null,
   "id": "ab649319-0383-4994-8acc-71834139449d",
   "metadata": {},
   "outputs": [],
   "source": [
    "# Create a new dataframe containing the sliced image IDs and save to .csv\n",
    "\n",
    "fnames = [f.split(\".\")[0] for f in os.listdir(dir_target) if f.endswith('.png')]\n",
    "df2 = pd.DataFrame({\"id\": fnames})\n",
    "\n",
    "df2[\"cell_type\"] = df2.apply(lambda x: df.loc[df[\"id\"] == x[\"id\"].split(\"_\")[0], \"cell_type\"].values[0], axis = 1)\n",
    "df2.to_csv(\"cells_split_id.csv\", index = False)"
   ]
  },
  {
   "cell_type": "markdown",
   "id": "d9f78ff5-0f3e-47ef-be49-7f8d34cf7190",
   "metadata": {},
   "source": [
    "### Process the original masks"
   ]
  },
  {
   "cell_type": "code",
   "execution_count": null,
   "id": "b190a0ce-5dd5-4e27-9b56-00d4d90353b7",
   "metadata": {},
   "outputs": [],
   "source": [
    "# Run the image slicer on the original masks\n",
    "dir_source = f\"{dir_data}data_preprocessed/mask_groundtruth/\"\n",
    "dir_target = f\"{dir_data}data_preprocessed/sliced_images/masks/\"\n",
    "\n",
    "img_slicer(dir_source, dir_target)"
   ]
  },
  {
   "cell_type": "markdown",
   "id": "e913ced5-aa6a-4a61-9da1-82dea998e2dc",
   "metadata": {},
   "source": [
    "### Process the masks from clustering + SIFT/Gauss filtering"
   ]
  },
  {
   "cell_type": "code",
   "execution_count": null,
   "id": "cd675e86-0080-456e-ba09-2018bd4cceac",
   "metadata": {},
   "outputs": [],
   "source": [
    "# Run the image slicer on the cs masks\n",
    "\n",
    "dir_source = f\"{dir_data}data_preprocessed/mask_cluster/masks_cs/\"\n",
    "dir_target = f\"{dir_data}data_preprocessed/sliced_images/masks_cs/\"\n",
    "\n",
    "img_slicer(dir_source, dir_target)"
   ]
  },
  {
   "cell_type": "code",
   "execution_count": null,
   "id": "7088a4f2-f082-45a0-b2b0-66498b5c79d6",
   "metadata": {},
   "outputs": [],
   "source": [
    "# Run the image slicer on the cg masks\n",
    "\n",
    "dir_source = f\"{dir_data}data_preprocessed/mask_cluster/masks_cg/\"\n",
    "dir_target = f\"{dir_data}data_preprocessed/sliced_images/masks_cg/\"\n",
    "\n",
    "img_slicer(dir_source, dir_target)"
   ]
  }
 ],
 "metadata": {
  "kernelspec": {
   "display_name": "Python 3 (ipykernel)",
   "language": "python",
   "name": "python3"
  },
  "language_info": {
   "codemirror_mode": {
    "name": "ipython",
    "version": 3
   },
   "file_extension": ".py",
   "mimetype": "text/x-python",
   "name": "python",
   "nbconvert_exporter": "python",
   "pygments_lexer": "ipython3",
   "version": "3.9.4"
  }
 },
 "nbformat": 4,
 "nbformat_minor": 5
}
