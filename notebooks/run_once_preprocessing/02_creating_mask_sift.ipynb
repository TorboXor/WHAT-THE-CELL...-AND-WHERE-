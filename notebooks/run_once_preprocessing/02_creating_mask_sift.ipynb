{
 "cells": [
  {
   "cell_type": "markdown",
   "metadata": {
    "tags": []
   },
   "source": [
    "# Creating segmentation masks using SIFT keypoints\n",
    "\n",
    "This notebook contains algorithms to create segmentation masks by using the feature extraction tool SIFT. We get the SIFT keypoints using OpenCV. Those keypoints get clustered with KMeans and a gaussian filter is applied, afterwards. Pixels are classified as non-cell type below a defined threshold and classified as cell type when their values exceed this threshold.\n"
   ]
  },
  {
   "cell_type": "code",
   "execution_count": null,
   "metadata": {},
   "outputs": [],
   "source": [
    "import pathlib\n",
    "import pandas as pd\n",
    "import os\n",
    "import cv2\n",
    "import matplotlib.pyplot as plt\n",
    "import numpy as np\n",
    "from sklearn.cluster import KMeans\n",
    "from skimage.io import imread\n",
    "%matplotlib inline"
   ]
  },
  {
   "cell_type": "code",
   "execution_count": null,
   "metadata": {},
   "outputs": [],
   "source": [
    "# Get the directory of the repository\n",
    "curr_dir = os.getcwd()\n",
    "parent_dir = pathlib.Path(curr_dir).parents[1]"
   ]
  },
  {
   "cell_type": "code",
   "execution_count": null,
   "metadata": {},
   "outputs": [],
   "source": [
    "# Load the train.csv to write a new file that contains the sliced image file names\n",
    "df = pd.read_csv(str(parent_dir) + '/data/data_original/train.csv')\n",
    "df = df[['id','cell_type']]\n",
    "df = df.drop_duplicates(subset=['id'])\n",
    "\n",
    "path_list_astro = df.query('cell_type == \"astro\"')\n",
    "\n",
    "# put paths of astro cell images in a list\n",
    "astros = []\n",
    "for img in range(0,len(path_list_astro.id.to_list())):\n",
    "    astros.append(str(parent_dir) + '/data/data_original/train/' + str(path_list_astro.id.to_list()[img]) + '.png')"
   ]
  },
  {
   "cell_type": "code",
   "execution_count": null,
   "metadata": {},
   "outputs": [],
   "source": [
    "def save_seg_img(img_list, path_list):\n",
    "    \n",
    "    \"Function saves clustered images\"\n",
    "    \n",
    "    home_path = str(parent_dir) + '/data/data_preprocessed/mask_cluster/before_preprocessing/segmented_img_sift/'\n",
    "    \n",
    "    save_seg_dic = {k: v for k, v in zip(path_list, img_list)}\n",
    "    for path, img in save_seg_dic.items():\n",
    "        id_img = path.split('/')[-1].split('.')[0]\n",
    "        cv2.imwrite(home_path + id_img + '_seg.png', img*255.)"
   ]
  },
  {
   "cell_type": "code",
   "execution_count": null,
   "metadata": {},
   "outputs": [],
   "source": [
    "nOctaveLayers = 40\n",
    "\n",
    "nfeatures=20000\n",
    "contrastThreshold = 0.02\n",
    "edgeThreshold = 0.01\n",
    "sigma = 1\n",
    "\n",
    "astro_img = []\n",
    "\n",
    "#iterate trough astros list\n",
    "for i, path in enumerate(astros):\n",
    "    if i % 10 == 0:\n",
    "        print(i, 'images processed')\n",
    "        \n",
    "    img = imread(path)\n",
    "    img_i = cv2.imread(path)\n",
    "    gray = cv2.cvtColor(img_i, cv2.COLOR_BGR2GRAY)\n",
    "    #get the keypoints\n",
    "    sift = cv2.xfeatures2d.SIFT_create(nfeatures, nOctaveLayers, contrastThreshold, edgeThreshold, sigma)\n",
    "    keypoints_1, descriptors_1 = sift.detectAndCompute(img,None)\n",
    "    \n",
    "    kp_lst = []\n",
    "    for j in range(0,len(keypoints_1)):\n",
    "        kp_lst.append(keypoints_1[j].pt)\n",
    "        \n",
    "    #create keypoint_shell with entries of 0\n",
    "    kp_map = np.zeros((img.shape[0], img.shape[1])) \n",
    "\n",
    "    #rounding coordinates\n",
    "    kp_lst_round = np.round(kp_lst).astype(int) \n",
    "\n",
    "    #change pixel value to 1, when entry in shell is a keypoint\n",
    "    for k in range(0,len(kp_lst_round)):\n",
    "        kp_map[kp_lst_round[k][1]][kp_lst_round[k][0]] = 1 \n",
    "    \n",
    "    #change pixel value of original image(s) to 255 where keypoint exists\n",
    "         #first: reshaping for kmeans later on\n",
    "    kp_map_reshaped = kp_map.reshape(kp_map.shape[0] * kp_map.shape[1], 1)\n",
    "    orig_img_reshaped = img.reshape(img.shape[0] * img.shape[1], 1)\n",
    "         #second: replacing pixel values\n",
    "    for l in range(0, len(orig_img_reshaped)):\n",
    "        if kp_map_reshaped[l] == 1:\n",
    "            orig_img_reshaped == 255\n",
    "                \n",
    "    kmeans = KMeans(n_clusters=80, \n",
    "                     n_init= 5, \n",
    "                     max_iter=50,\n",
    "                     random_state = 42).fit(orig_img_reshaped)\n",
    "\n",
    "    kp_map = np.reshape(np.array(kmeans.labels_, dtype=np.uint8),(kp_map.shape[0], kp_map.shape[1]))\n",
    "    \n",
    "    # run gauss filter over kp_map\n",
    "    kerne_size = 5\n",
    "    kernel = np.ones((kerne_size,kerne_size),np.float32)/(kerne_size**2)\n",
    "    dst = cv2.filter2D(kp_map,-1,kernel)\n",
    "    \n",
    "    #set threshold to classify pixels to cell and non-cell type\n",
    "    thr_gauss = int(dst.mean())+7\n",
    "\n",
    "    dst_new = dst.copy()\n",
    "    dst_new[dst_new <= thr_gauss] = 0\n",
    "    dst_new[dst_new > thr_gauss] = 1        \n",
    "    \n",
    "    astro_img.append(dst_new)\n",
    "    \n",
    "    #optional: plot each mask\n",
    "    fig = plt.figure(figsize=(24,16))\n",
    "    plt.imshow(cv2.imread(path), cmap = 'gray')\n",
    "    plt.imshow(dst_new, alpha = 0.2)\n",
    "    plt.imshow(cv2.drawKeypoints(gray,keypoints_1,img), alpha = 0.4)\n",
    "    \n",
    "    #if i == 1: \n",
    "        #break\n"
   ]
  },
  {
   "cell_type": "code",
   "execution_count": null,
   "metadata": {},
   "outputs": [],
   "source": [
    "#saving the images\n",
    "save_seg_img(astro_img, astros)"
   ]
  }
 ],
 "metadata": {
  "kernelspec": {
   "display_name": "Python 3.9.4 64-bit ('.venv': venv)",
   "language": "python",
   "name": "python394jvsc74a57bd06034dd0fcb00cdd878785d4862f94e84d40fb0694d236c762eebdb6163bd74dd"
  },
  "language_info": {
   "codemirror_mode": {
    "name": "ipython",
    "version": 3
   },
   "file_extension": ".py",
   "mimetype": "text/x-python",
   "name": "python",
   "nbconvert_exporter": "python",
   "pygments_lexer": "ipython3",
   "version": "3.9.4"
  }
 },
 "nbformat": 4,
 "nbformat_minor": 4
}
