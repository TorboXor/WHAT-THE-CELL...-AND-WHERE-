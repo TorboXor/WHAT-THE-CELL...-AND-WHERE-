{
 "cells": [
  {
   "cell_type": "markdown",
   "id": "2c660992-fea4-4886-8ae8-c4244925a56c",
   "metadata": {},
   "source": [
    "# Creating segmentation masks using K-Means clustering.\n",
    "\n",
    "This notebook contains algorithms to create segmentation masks by using K-Means clustering. The pixel getting clustered with KMeans in terms of their value and a gaussian filter is applied, afterwards. Pixels are classified as non-cell type below a defined threshold and classified as cell type when their values exceed this threshold."
   ]
  },
  {
   "cell_type": "code",
   "execution_count": null,
   "id": "3731bdab-1236-4bb0-8eb5-0882f9c00e17",
   "metadata": {
    "tags": []
   },
   "outputs": [],
   "source": [
    "import pandas as pd\n",
    "import numpy as np\n",
    "import pathlib\n",
    "import os\n",
    "import cv2\n",
    "\n",
    "from sklearn.cluster import KMeans\n",
    "from matplotlib import pyplot as plt\n",
    "from skimage.io import imread\n"
   ]
  },
  {
   "cell_type": "code",
   "execution_count": null,
   "id": "3b5637fb-5e1e-4bb7-8595-35bf1fd483a6",
   "metadata": {},
   "outputs": [],
   "source": [
    "# Get the directory of the repository\n",
    "curr_dir = os.getcwd()\n",
    "parent_dir = pathlib.Path(curr_dir).parents[1]\n",
    "print(parent_dir)"
   ]
  },
  {
   "cell_type": "code",
   "execution_count": null,
   "id": "ea0f60c8-570a-4fc0-9bd3-219662999ded",
   "metadata": {},
   "outputs": [],
   "source": [
    "def save_seg_img(img_list, path_list):\n",
    "    \n",
    "    \"Function saves clustered images\"\n",
    "    \n",
    "    home_path = str(parent_dir) + '/data/data_preprocessed/mask_cluster/before_preprocessing/segmented_img/'\n",
    "    \n",
    "    save_seg_dic = {k: v for k, v in zip(path_list, img_list)}\n",
    "    for path, img in save_seg_dic.items():\n",
    "        id_img = path.split('/')[-1].split('.')[0]\n",
    "        cv2.imwrite(home_path + id_img + '_seg.png', img*255.)"
   ]
  },
  {
   "cell_type": "code",
   "execution_count": null,
   "id": "e4d2bab5-3b5c-4fae-afd0-329644bf9207",
   "metadata": {},
   "outputs": [],
   "source": [
    "# Load the train.csv to write a new file that contains the sliced image file names\n",
    "df = pd.read_csv(str(parent_dir) + '/data/data_original/train.csv')\n",
    "df = df[['id','cell_type']]\n",
    "df = df.drop_duplicates(subset=['id'])"
   ]
  },
  {
   "cell_type": "code",
   "execution_count": null,
   "id": "6686d0a4-f45b-4faa-a4e8-19c7951d9525",
   "metadata": {
    "tags": []
   },
   "outputs": [],
   "source": [
    "# choose only astro images\n",
    "path_list_astro = df.query('cell_type == \"astro\"')\n",
    "\n",
    "# put paths of astro cell images in a list\n",
    "astros = []\n",
    "for img in range(0,len(path_list_astro.id.to_list())):\n",
    "    astros.append(str(parent_dir) + '/data/data_original/train/' + str(path_list_astro.id.to_list()[img]) + '.png')"
   ]
  },
  {
   "cell_type": "code",
   "execution_count": null,
   "id": "2aac9b37-5b88-4060-ab1b-7f6dae208787",
   "metadata": {},
   "outputs": [],
   "source": [
    "astro_img = []\n",
    "\n",
    "#iterate trough astros list\n",
    "for i, path in enumerate(astros):\n",
    "    if i % 10 == 0:\n",
    "        print(i, 'images processed')\n",
    "        \n",
    "    # load original image and reshape it so that kmeans works    \n",
    "    img = imread(path)\n",
    "    img_reshaped = img.reshape(img.shape[0] * img.shape[1], 1)\n",
    "    \n",
    "    # run kmeans on img_reshaped and reshape it to get back original shape\n",
    "    kmeans_orig = KMeans(n_clusters=80, n_init= 5, \n",
    "               max_iter=50, random_state= 42).fit(img_reshaped)\n",
    "    img_kmeans = np.reshape(np.array(kmeans_orig.labels_, dtype=np.uint8),(img.shape[0], img.shape[1]))\n",
    "    \n",
    "    # run gauss filter over img_kmeans\n",
    "    kerne_size = 12\n",
    "    kernel = np.ones((kerne_size,kerne_size),np.float32)/(kerne_size**2)\n",
    "    gauss = cv2.filter2D(img_kmeans,-1,kernel)\n",
    "    \n",
    "    # Set a threshold that assigns pixels to the mask or background (non cell area) in terms of brightness\n",
    "    # threshold is the mean value of the brightness + 2\n",
    "    threshold = gauss.mean() + 2\n",
    "    pred_mask = gauss.copy()\n",
    "    pred_mask[pred_mask <= threshold] = 0\n",
    "    pred_mask[pred_mask > threshold] = 1\n",
    "    \n",
    "    # put created masks in astro_img list\n",
    "    astro_img.append(pred_mask)\n",
    "    "
   ]
  },
  {
   "cell_type": "code",
   "execution_count": null,
   "id": "26f91f68-3d2b-40c2-a4a7-fc3a1d511598",
   "metadata": {},
   "outputs": [],
   "source": [
    "# save masks\n",
    "save_seg_img(astro_img, astros)"
   ]
  },
  {
   "cell_type": "markdown",
   "id": "e6905660-2395-481d-bf24-6d4f7c7daa92",
   "metadata": {},
   "source": [
    "# Visualisation of process\n",
    "\n",
    "* Image 1 = original image;\n",
    "* Image 2 = after k-Means; \n",
    "* Image 3 = after gaussian filter; \n",
    "* Image 4 = created mask"
   ]
  },
  {
   "cell_type": "code",
   "execution_count": null,
   "id": "9cf036b3-dda5-4c01-a6db-8ee100ab2864",
   "metadata": {},
   "outputs": [],
   "source": [
    "ig, arr = plt.subplots(1,4, figsize=(20, 20))\n",
    "arr[0].imshow(img, cmap='gray')\n",
    "arr[1].imshow(img_kmeans)\n",
    "arr[2].imshow(gauss)\n",
    "arr[3].imshow(pred_mask)\n",
    "arr[0].set_xticks([])\n",
    "arr[0].set_yticks([])\n",
    "arr[1].set_xticks([])\n",
    "arr[1].set_yticks([])\n",
    "arr[2].set_xticks([])\n",
    "arr[2].set_yticks([])\n",
    "arr[3].set_xticks([])\n",
    "arr[3].set_yticks([])"
   ]
  }
 ],
 "metadata": {
  "kernelspec": {
   "display_name": "Python 3 (ipykernel)",
   "language": "python",
   "name": "python3"
  },
  "language_info": {
   "codemirror_mode": {
    "name": "ipython",
    "version": 3
   },
   "file_extension": ".py",
   "mimetype": "text/x-python",
   "name": "python",
   "nbconvert_exporter": "python",
   "pygments_lexer": "ipython3",
   "version": "3.9.4"
  }
 },
 "nbformat": 4,
 "nbformat_minor": 5
}
